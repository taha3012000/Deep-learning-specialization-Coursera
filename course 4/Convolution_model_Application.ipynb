{
 "cells": [
  {
   "cell_type": "markdown",
   "metadata": {},
   "source": [
    "# Convolutional Neural Networks: Application\n",
    "\n",
    "Welcome to Course 4's second assignment! In this notebook, you will:\n",
    "\n",
    "- Create a mood classifer using the TF Keras Sequential API\n",
    "- Build a ConvNet to identify sign language digits using the TF Keras Functional API\n",
    "\n",
    "**After this assignment you will be able to:**\n",
    "\n",
    "- Build and train a ConvNet in TensorFlow for a __binary__ classification problem\n",
    "- Build and train a ConvNet in TensorFlow for a __multiclass__ classification problem\n",
    "- Explain different use cases for the Sequential and Functional APIs\n",
    "\n",
    "To complete this assignment, you should already be familiar with TensorFlow. If you are not, please refer back to the **TensorFlow Tutorial** of the third week of Course 2 (\"**Improving deep neural networks**\")."
   ]
  },
  {
   "cell_type": "markdown",
   "metadata": {},
   "source": [
    "## Table of Contents\n",
    "\n",
    "- [1 - Packages](#1)\n",
    "    - [1.1 - Load the Data and Split the Data into Train/Test Sets](#1-1)\n",
    "- [2 - Layers in TF Keras](#2)\n",
    "- [3 - The Sequential API](#3)\n",
    "    - [3.1 - Create the Sequential Model](#3-1)\n",
    "        - [Exercise 1 - happyModel](#ex-1)\n",
    "    - [3.2 - Train and Evaluate the Model](#3-2)\n",
    "- [4 - The Functional API](#4)\n",
    "    - [4.1 - Load the SIGNS Dataset](#4-1)\n",
    "    - [4.2 - Split the Data into Train/Test Sets](#4-2)\n",
    "    - [4.3 - Forward Propagation](#4-3)\n",
    "        - [Exercise 2 - convolutional_model](#ex-2)\n",
    "    - [4.4 - Train the Model](#4-4)\n",
    "- [5 - History Object](#5)\n",
    "- [6 - Bibliography](#6)"
   ]
  },
  {
   "cell_type": "markdown",
   "metadata": {},
   "source": [
    "<a name='1'></a>\n",
    "## 1 - Packages\n",
    "\n",
    "As usual, begin by loading in the packages."
   ]
  },
  {
   "cell_type": "code",
   "execution_count": 1,
   "metadata": {},
   "outputs": [],
   "source": [
    "import math\n",
    "import numpy as np\n",
    "import h5py\n",
    "import matplotlib.pyplot as plt\n",
    "from matplotlib.pyplot import imread\n",
    "import scipy\n",
    "from PIL import Image\n",
    "import pandas as pd\n",
    "import tensorflow as tf\n",
    "import tensorflow.keras.layers as tfl\n",
    "from tensorflow.python.framework import ops\n",
    "from cnn_utils import *\n",
    "from test_utils import summary, comparator\n",
    "\n",
    "%matplotlib inline\n",
    "np.random.seed(1)"
   ]
  },
  {
   "cell_type": "markdown",
   "metadata": {},
   "source": [
    "<a name='1-1'></a>\n",
    "### 1.1 - Load the Data and Split the Data into Train/Test Sets\n",
    "\n",
    "You'll be using the Happy House dataset for this part of the assignment, which contains images of peoples' faces. Your task will be to build a ConvNet that determines whether the people in the images are smiling or not -- because they only get to enter the house if they're smiling!  "
   ]
  },
  {
   "cell_type": "code",
   "execution_count": 2,
   "metadata": {},
   "outputs": [
    {
     "name": "stdout",
     "output_type": "stream",
     "text": [
      "number of training examples = 600\n",
      "number of test examples = 150\n",
      "X_train shape: (600, 64, 64, 3)\n",
      "Y_train shape: (600, 1)\n",
      "X_test shape: (150, 64, 64, 3)\n",
      "Y_test shape: (150, 1)\n"
     ]
    }
   ],
   "source": [
    "X_train_orig, Y_train_orig, X_test_orig, Y_test_orig, classes = load_happy_dataset()\n",
    "\n",
    "# Normalize image vectors\n",
    "X_train = X_train_orig/255.\n",
    "X_test = X_test_orig/255.\n",
    "\n",
    "# Reshape\n",
    "Y_train = Y_train_orig.T\n",
    "Y_test = Y_test_orig.T\n",
    "\n",
    "print (\"number of training examples = \" + str(X_train.shape[0]))\n",
    "print (\"number of test examples = \" + str(X_test.shape[0]))\n",
    "print (\"X_train shape: \" + str(X_train.shape))\n",
    "print (\"Y_train shape: \" + str(Y_train.shape))\n",
    "print (\"X_test shape: \" + str(X_test.shape))\n",
    "print (\"Y_test shape: \" + str(Y_test.shape))"
   ]
  },
  {
   "cell_type": "markdown",
   "metadata": {},
   "source": [
    "You can display the images contained in the dataset. Images are **64x64** pixels in RGB format (3 channels)."
   ]
  },
  {
   "cell_type": "code",
   "execution_count": 3,
   "metadata": {},
   "outputs": [
    {
     "data": {
      "image/png": "[encoded data removed]",
      "text/plain": [
       "<Figure size 432x288 with 1 Axes>"
      ]
     },
     "metadata": {
      "needs_background": "light"
     },
     "output_type": "display_data"
    }
   ],
   "source": [
    "index = 124\n",
    "plt.imshow(X_train_orig[index]) #display sample training image\n",
    "plt.show()"
   ]
  },
  {
   "cell_type": "markdown",
   "metadata": {},
   "source": [
    "<a name='2'></a>\n",
    "## 2 - Layers in TF Keras \n",
    "\n",
    "In the previous assignment, you created layers manually in numpy. In TF Keras, you don't have to write code directly to create layers. Rather, TF Keras has pre-defined layers you can use. \n",
    "\n",
    "When you create a layer in TF Keras, you are creating a function that takes some input and transforms it into an output you can reuse later. Nice and easy! "
   ]
  },
  {
   "cell_type": "markdown",
   "metadata": {},
   "source": [
    "<a name='3'></a>\n",
    "## 3 - The Sequential API\n",
    "\n",
    "In the previous assignment, you built helper functions using `numpy` to understand the mechanics behind convolutional neural networks. Most practical applications of deep learning today are built using programming frameworks, which have many built-in functions you can simply call. Keras is a high-level abstraction built on top of TensorFlow, which allows for even more simplified and optimized model creation and training. \n",
    "\n",
    "For the first part of this assignment, you'll create a model using TF Keras' Sequential API, which allows you to build layer by layer, and is ideal for building models where each layer has **exactly one** input tensor and **one** output tensor. \n",
    "\n",
    "As you'll see, using the Sequential API is simple and straightforward, but is only appropriate for simpler, more straightforward tasks. Later in this notebook you'll spend some time building with a more flexible, powerful alternative: the Functional API. \n",
    " "
   ]
  },
  {
   "cell_type": "markdown",
   "metadata": {},
   "source": [
    "<a name='3-1'></a>\n",
    "### 3.1 - Create the Sequential Model\n",
    "\n",
    "As mentioned earlier, the TensorFlow Keras Sequential API can be used to build simple models with layer operations that proceed in a sequential order. \n",
    "\n",
    "You can also add layers incrementally to a Sequential model with the `.add()` method, or remove them using the `.pop()` method, much like you would in a regular Python list.\n",
    "\n",
    "Actually, you can think of a Sequential model as behaving like a list of layers. Like Python lists, Sequential layers are ordered, and the order in which they are specified matters.  If your model is non-linear or contains layers with multiple inputs or outputs, a Sequential model wouldn't be the right choice!\n",
    "\n",
    "For any layer construction in Keras, you'll need to specify the input shape in advance. This is because in Keras, the shape of the weights is based on the shape of the inputs. The weights are only created when the model first sees some input data. Sequential models can be created by passing a list of layers to the Sequential constructor, like you will do in the next assignment.\n",
    "\n",
    "<a name='ex-1'></a>\n",
    "### Exercise 1 - happyModel\n",
    "\n",
    "Implement the `happyModel` function below to build the following model: `ZEROPAD2D -> CONV2D -> BATCHNORM -> RELU -> MAXPOOL -> FLATTEN -> DENSE`. Take help from [tf.keras.layers](https://www.tensorflow.org/api_docs/python/tf/keras/layers) \n",
    "\n",
    "Also, plug in the following parameters for all the steps:\n",
    "\n",
    " - [ZeroPadding2D](https://www.tensorflow.org/api_docs/python/tf/keras/layers/ZeroPadding2D): padding 3, input shape 64 x 64 x 3\n",
    " - [Conv2D](https://www.tensorflow.org/api_docs/python/tf/keras/layers/Conv2D): Use 32 7x7 filters, stride 1\n",
    " - [BatchNormalization](https://www.tensorflow.org/api_docs/python/tf/keras/layers/BatchNormalization): for axis 3\n",
    " - [ReLU](https://www.tensorflow.org/api_docs/python/tf/keras/layers/ReLU)\n",
    " - [MaxPool2D](https://www.tensorflow.org/api_docs/python/tf/keras/layers/MaxPool2D): Using default parameters\n",
    " - [Flatten](https://www.tensorflow.org/api_docs/python/tf/keras/layers/Flatten) the previous output.\n",
    " - Fully-connected ([Dense](https://www.tensorflow.org/api_docs/python/tf/keras/layers/Dense)) layer: Apply a fully connected layer with 1 neuron and a sigmoid activation. \n",
    " \n",
    " \n",
    " **Hint:**\n",
    " \n",
    " Use **tfl** as shorthand for **tensorflow.keras.layers**"
   ]
  },
  {
   "cell_type": "code",
   "execution_count": 4,
   "metadata": {
    "deletable": false,
    "nbgrader": {
     "cell_type": "code",
     "checksum": "95d28b191f257bdd5b70c7b8952559d5",
     "grade": false,
     "grade_id": "cell-0e56d3fc28b69aec",
     "locked": false,
     "schema_version": 3,
     "solution": true,
     "task": false
    }
   },
   "outputs": [],
   "source": [
    "# GRADED FUNCTION: happyModel\n",
    "\n",
    "def happyModel():\n",
    "    \"\"\"\n",
    "    Implements the forward propagation for the binary classification model:\n",
    "    ZEROPAD2D -> CONV2D -> BATCHNORM -> RELU -> MAXPOOL -> FLATTEN -> DENSE\n",
    "    \n",
    "    Note that for simplicity and grading purposes, you'll hard-code all the values\n",
    "    such as the stride and kernel (filter) sizes. \n",
    "    Normally, functions should take these values as function parameters.\n",
    "    \n",
    "    Arguments:\n",
    "    None\n",
    "\n",
    "    Returns:\n",
    "    model -- TF Keras model (object containing the information for the entire training process) \n",
    "    \"\"\"\n",
    "    model = tf.keras.Sequential([\n",
    "            ## ZeroPadding2D with padding 3, input shape of 64 x 64 x 3\n",
    "            \n",
    "            ## Conv2D with 32 7x7 filters and stride of 1\n",
    "            \n",
    "            ## BatchNormalization for axis 3\n",
    "            \n",
    "            ## ReLU\n",
    "            \n",
    "            ## Max Pooling 2D with default parameters\n",
    "            \n",
    "            ## Flatten layer\n",
    "            \n",
    "            ## Dense layer with 1 unit for output & 'sigmoid' activation\n",
    "            \n",
    "            # YOUR CODE STARTS HERE\n",
    "            tfl.ZeroPadding2D(padding=(3,3), input_shape=(64,64,3),data_format=\"channels_last\"),\n",
    "            tfl.Conv2D(32, (7, 7), strides = (1, 1), name = 'conv0'),\n",
    "            tfl.BatchNormalization(axis = 3, name = 'bn0'),\n",
    "            tfl.ReLU(),\n",
    "            tfl.MaxPooling2D((2, 2), name='max_pool0'),\n",
    "            tfl.Flatten(),\n",
    "            tfl.Dense(1, activation='sigmoid', name='fc'),\n",
    "\n",
    "            # YOUR CODE ENDS HERE\n",
    "        ])\n",
    "    \n",
    "    return model"
   ]
  },
  {
   "cell_type": "code",
   "execution_count": 5,
   "metadata": {
    "deletable": false,
    "editable": false,
    "nbgrader": {
     "cell_type": "code",
     "checksum": "8d3575c950e2e78149be2d05d671c80d",
     "grade": true,
     "grade_id": "cell-e3e1046e5c33d775",
     "locked": true,
     "points": 10,
     "schema_version": 3,
     "solution": false,
     "task": false
    }
   },
   "outputs": [
    {
     "name": "stdout",
     "output_type": "stream",
     "text": [
      "['ZeroPadding2D', (None, 70, 70, 3), 0, ((3, 3), (3, 3))]\n",
      "['Conv2D', (None, 64, 64, 32), 4736, 'valid', 'linear', 'GlorotUniform']\n",
      "['BatchNormalization', (None, 64, 64, 32), 128]\n",
      "['ReLU', (None, 64, 64, 32), 0]\n",
      "['MaxPooling2D', (None, 32, 32, 32), 0, (2, 2), (2, 2), 'valid']\n",
      "['Flatten', (None, 32768), 0]\n",
      "['Dense', (None, 1), 32769, 'sigmoid']\n",
      "\u001b[32mAll tests passed!\u001b[0m\n"
     ]
    }
   ],
   "source": [
    "happy_model = happyModel()\n",
    "# Print a summary for each layer\n",
    "for layer in summary(happy_model):\n",
    "    print(layer)\n",
    "    \n",
    "output = [['ZeroPadding2D', (None, 70, 70, 3), 0, ((3, 3), (3, 3))],\n",
    "            ['Conv2D', (None, 64, 64, 32), 4736, 'valid', 'linear', 'GlorotUniform'],\n",
    "            ['BatchNormalization', (None, 64, 64, 32), 128],\n",
    "            ['ReLU', (None, 64, 64, 32), 0],\n",
    "            ['MaxPooling2D', (None, 32, 32, 32), 0, (2, 2), (2, 2), 'valid'],\n",
    "            ['Flatten', (None, 32768), 0],\n",
    "            ['Dense', (None, 1), 32769, 'sigmoid']]\n",
    "    \n",
    "comparator(summary(happy_model), output)"
   ]
  },
  {
   "cell_type": "markdown",
   "metadata": {},
   "source": [
    "Now that your model is created, you can compile it for training with an optimizer and loss of your choice. When the string `accuracy` is specified as a metric, the type of accuracy used will be automatically converted based on the loss function used. This is one of the many optimizations built into TensorFlow that make your life easier! If you'd like to read more on how the compiler operates, check the docs [here](https://www.tensorflow.org/api_docs/python/tf/keras/Model#compile)."
   ]
  },
  {
   "cell_type": "code",
   "execution_count": 6,
   "metadata": {},
   "outputs": [],
   "source": [
    "happy_model.compile(optimizer='adam',\n",
    "                   loss='binary_crossentropy',\n",
    "                   metrics=['accuracy'])"
   ]
  },
  {
   "cell_type": "markdown",
   "metadata": {},
   "source": [
    "It's time to check your model's parameters with the `.summary()` method. This will display the types of layers you have, the shape of the outputs, and how many parameters are in each layer. "
   ]
  },
  {
   "cell_type": "code",
   "execution_count": 7,
   "metadata": {},
   "outputs": [
    {
     "name": "stdout",
     "output_type": "stream",
     "text": [
      "Model: \"sequential\"\n",
      "_________________________________________________________________\n",
      "Layer (type)                 Output Shape              Param #   \n",
      "=================================================================\n",
      "zero_padding2d (ZeroPadding2 (None, 70, 70, 3)         0         \n",
      "_________________________________________________________________\n",
      "conv0 (Conv2D)               (None, 64, 64, 32)        4736      \n",
      "_________________________________________________________________\n",
      "bn0 (BatchNormalization)     (None, 64, 64, 32)        128       \n",
      "_________________________________________________________________\n",
      "re_lu (ReLU)                 (None, 64, 64, 32)        0         \n",
      "_________________________________________________________________\n",
      "max_pool0 (MaxPooling2D)     (None, 32, 32, 32)        0         \n",
      "_________________________________________________________________\n",
      "flatten (Flatten)            (None, 32768)             0         \n",
      "_________________________________________________________________\n",
      "fc (Dense)                   (None, 1)                 32769     \n",
      "=================================================================\n",
      "Total params: 37,633\n",
      "Trainable params: 37,569\n",
      "Non-trainable params: 64\n",
      "_________________________________________________________________\n"
     ]
    }
   ],
   "source": [
    "happy_model.summary()"
   ]
  },
  {
   "cell_type": "markdown",
   "metadata": {},
   "source": [
    "<a name='3-2'></a>\n",
    "### 3.2 - Train and Evaluate the Model\n",
    "\n",
    "After creating the model, compiling it with your choice of optimizer and loss function, and doing a sanity check on its contents, you are now ready to build! \n",
    "\n",
    "Simply call `.fit()` to train. That's it! No need for mini-batching, saving, or complex backpropagation computations. That's all been done for you, as you're using a TensorFlow dataset with the batches specified already. You do have the option to specify epoch number or minibatch size if you like (for example, in the case of an un-batched dataset)."
   ]
  },
  {
   "cell_type": "code",
   "execution_count": 8,
   "metadata": {},
   "outputs": [
    {
     "name": "stdout",
     "output_type": "stream",
     "text": [
      "Epoch 1/10\n",
      "38/38 [==============================] - 4s 98ms/step - loss: 0.8070 - accuracy: 0.7617\n",
      "Epoch 2/10\n",
      "38/38 [==============================] - 4s 92ms/step - loss: 0.2298 - accuracy: 0.9150\n",
      "Epoch 3/10\n",
      "38/38 [==============================] - 3s 89ms/step - loss: 0.1315 - accuracy: 0.9483\n",
      "Epoch 4/10\n",
      "38/38 [==============================] - 3s 89ms/step - loss: 0.1116 - accuracy: 0.9650\n",
      "Epoch 5/10\n",
      "38/38 [==============================] - 3s 90ms/step - loss: 0.0709 - accuracy: 0.9767\n",
      "Epoch 6/10\n",
      "38/38 [==============================] - 3s 89ms/step - loss: 0.0643 - accuracy: 0.9733\n",
      "Epoch 7/10\n",
      "38/38 [==============================] - 3s 90ms/step - loss: 0.0838 - accuracy: 0.9650\n",
      "Epoch 8/10\n",
      "38/38 [==============================] - 3s 89ms/step - loss: 0.1402 - accuracy: 0.9450\n",
      "Epoch 9/10\n",
      "38/38 [==============================] - 3s 87ms/step - loss: 0.1099 - accuracy: 0.9533\n",
      "Epoch 10/10\n",
      "38/38 [==============================] - 3s 89ms/step - loss: 0.1079 - accuracy: 0.9667\n"
     ]
    },
    {
     "data": {
      "text/plain": [
       "<tensorflow.python.keras.callbacks.History at 0x7f15e160d3d0>"
      ]
     },
     "execution_count": 8,
     "metadata": {},
     "output_type": "execute_result"
    }
   ],
   "source": [
    "happy_model.fit(X_train, Y_train, epochs=10, batch_size=16)"
   ]
  },
  {
   "cell_type": "markdown",
   "metadata": {},
   "source": [
    "After that completes, just use `.evaluate()` to evaluate against your test set. This function will print the value of the loss function and the performance metrics specified during the compilation of the model. In this case, the `binary_crossentropy` and the `accuracy` respectively."
   ]
  },
  {
   "cell_type": "code",
   "execution_count": 9,
   "metadata": {},
   "outputs": [
    {
     "name": "stdout",
     "output_type": "stream",
     "text": [
      "5/5 [==============================] - 0s 35ms/step - loss: 0.2314 - accuracy: 0.8933\n"
     ]
    },
    {
     "data": {
      "text/plain": [
       "[0.23139406740665436, 0.8933333158493042]"
      ]
     },
     "execution_count": 9,
     "metadata": {},
     "output_type": "execute_result"
    }
   ],
   "source": [
    "happy_model.evaluate(X_test, Y_test)"
   ]
  },
  {
   "cell_type": "markdown",
   "metadata": {},
   "source": [
    "Easy, right? But what if you need to build a model with shared layers, branches, or multiple inputs and outputs? This is where Sequential, with its beautifully simple yet limited functionality, won't be able to help you. \n",
    "\n",
    "Next up: Enter the Functional API, your slightly more complex, highly flexible friend.  "
   ]
  },
  {
   "cell_type": "markdown",
   "metadata": {},
   "source": [
    "<a name='4'></a>\n",
    "## 4 - The Functional API"
   ]
  },
  {
   "cell_type": "markdown",
   "metadata": {},
   "source": [
    "Welcome to the second half of the assignment, where you'll use Keras' flexible [Functional API](https://www.tensorflow.org/guide/keras/functional) to build a ConvNet that can differentiate between 6 sign language digits. \n",
    "\n",
    "The Functional API can handle models with non-linear topology, shared layers, as well as layers with multiple inputs or outputs. Imagine that, where the Sequential API requires the model to move in a linear fashion through its layers, the Functional API allows much more flexibility. Where Sequential is a straight line, a Functional model is a graph, where the nodes of the layers can connect in many more ways than one. \n",
    "\n",
    "In the visual example below, the one possible direction of the movement Sequential model is shown in contrast to a skip connection, which is just one of the many ways a Functional model can be constructed. A skip connection, as you might have guessed, skips some layer in the network and feeds the output to a later layer in the network. Don't worry, you'll be spending more time with skip connections very soon! "
   ]
  },
  {
   "cell_type": "markdown",
   "metadata": {},
   "source": [
    "<img src=\"images/seq_vs_func.png\" style=\"width:350px;height:200px;\">"
   ]
  },
  {
   "cell_type": "markdown",
   "metadata": {},
   "source": [
    "<a name='4-1'></a>\n",
    "### 4.1 - Load the SIGNS Dataset\n",
    "\n",
    "As a reminder, the SIGNS dataset is a collection of 6 signs representing numbers from 0 to 5."
   ]
  },
  {
   "cell_type": "code",
   "execution_count": 10,
   "metadata": {},
   "outputs": [],
   "source": [
    "# Loading the data (signs)\n",
    "X_train_orig, Y_train_orig, X_test_orig, Y_test_orig, classes = load_signs_dataset()"
   ]
  },
  {
   "cell_type": "markdown",
   "metadata": {},
   "source": [
    "<img src=\"images/SIGNS.png\" style=\"width:800px;height:300px;\">\n",
    "\n",
    "The next cell will show you an example of a labelled image in the dataset. Feel free to change the value of `index` below and re-run to see different examples. "
   ]
  },
  {
   "cell_type": "code",
   "execution_count": 11,
   "metadata": {},
   "outputs": [
    {
     "name": "stdout",
     "output_type": "stream",
     "text": [
      "y = 4\n"
     ]
    },
    {
     "data": {
      "image/png": "[encoded data removed]",
      "text/plain": [
       "<Figure size 432x288 with 1 Axes>"
      ]
     },
     "metadata": {
      "needs_background": "light"
     },
     "output_type": "display_data"
    }
   ],
   "source": [
    "# Example of an image from the dataset\n",
    "index = 9\n",
    "plt.imshow(X_train_orig[index])\n",
    "print (\"y = \" + str(np.squeeze(Y_train_orig[:, index])))"
   ]
  },
  {
   "cell_type": "markdown",
   "metadata": {},
   "source": [
    "<a name='4-2'></a>\n",
    "### 4.2 - Split the Data into Train/Test Sets\n",
    "\n",
    "In Course 2, you built a fully-connected network for this dataset. But since this is an image dataset, it is more natural to apply a ConvNet to it.\n",
    "\n",
    "To get started, let's examine the shapes of your data. "
   ]
  },
  {
   "cell_type": "code",
   "execution_count": 12,
   "metadata": {},
   "outputs": [
    {
     "name": "stdout",
     "output_type": "stream",
     "text": [
      "number of training examples = 1080\n",
      "number of test examples = 120\n",
      "X_train shape: (1080, 64, 64, 3)\n",
      "Y_train shape: (1080, 6)\n",
      "X_test shape: (120, 64, 64, 3)\n",
      "Y_test shape: (120, 6)\n"
     ]
    }
   ],
   "source": [
    "X_train = X_train_orig/255.\n",
    "X_test = X_test_orig/255.\n",
    "Y_train = convert_to_one_hot(Y_train_orig, 6).T\n",
    "Y_test = convert_to_one_hot(Y_test_orig, 6).T\n",
    "print (\"number of training examples = \" + str(X_train.shape[0]))\n",
    "print (\"number of test examples = \" + str(X_test.shape[0]))\n",
    "print (\"X_train shape: \" + str(X_train.shape))\n",
    "print (\"Y_train shape: \" + str(Y_train.shape))\n",
    "print (\"X_test shape: \" + str(X_test.shape))\n",
    "print (\"Y_test shape: \" + str(Y_test.shape))"
   ]
  },
  {
   "cell_type": "markdown",
   "metadata": {},
   "source": [
    "<a name='4-3'></a>\n",
    "### 4.3 - Forward Propagation\n",
    "\n",
    "In TensorFlow, there are built-in functions that implement the convolution steps for you. By now, you should be familiar with how TensorFlow builds computational graphs. In the [Functional API](https://www.tensorflow.org/guide/keras/functional), you create a graph of layers. This is what allows such great flexibility.\n",
    "\n",
    "However, the following model could also be defined using the Sequential API since the information flow is on a single line. But don't deviate. What we want you to learn is to use the functional API.\n",
    "\n",
    "Begin building your graph of layers by creating an input node that functions as a callable object:\n",
    "\n",
    "- **input_img = tf.keras.Input(shape=input_shape):** \n",
    "\n",
    "Then, create a new node in the graph of layers by calling a layer on the `input_img` object: \n",
    "\n",
    "- **tf.keras.layers.Conv2D(filters= ... , kernel_size= ... , padding='same')(input_img):** Read the full documentation on [Conv2D](https://www.tensorflow.org/api_docs/python/tf/keras/layers/Conv2D).\n",
    "\n",
    "- **tf.keras.layers.MaxPool2D(pool_size=(f, f), strides=(s, s), padding='same'):** `MaxPool2D()` downsamples your input using a window of size (f, f) and strides of size (s, s) to carry out max pooling over each window.  For max pooling, you usually operate on a single example at a time and a single channel at a time. Read the full documentation on [MaxPool2D](https://www.tensorflow.org/api_docs/python/tf/keras/layers/MaxPool2D).\n",
    "\n",
    "- **tf.keras.layers.ReLU():** computes the elementwise ReLU of Z (which can be any shape). You can read the full documentation on [ReLU](https://www.tensorflow.org/api_docs/python/tf/keras/layers/ReLU).\n",
    "\n",
    "- **tf.keras.layers.Flatten()**: given a tensor \"P\", this function takes each training (or test) example in the batch and flattens it into a 1D vector.  \n",
    "\n",
    "    * If a tensor P has the shape (batch_size,h,w,c), it returns a flattened tensor with shape (batch_size, k), where $k=h \\times w \\times c$.  \"k\" equals the product of all the dimension sizes other than the first dimension.\n",
    "    \n",
    "    * For example, given a tensor with dimensions [100, 2, 3, 4], it flattens the tensor to be of shape [100, 24], where 24 = 2 * 3 * 4.  You can read the full documentation on [Flatten](https://www.tensorflow.org/api_docs/python/tf/keras/layers/Flatten).\n",
    "\n",
    "- **tf.keras.layers.Dense(units= ... , activation='softmax')(F):** given the flattened input F, it returns the output computed using a fully connected layer. You can read the full documentation on [Dense](https://www.tensorflow.org/api_docs/python/tf/keras/layers/Dense).\n",
    "\n",
    "In the last function above (`tf.keras.layers.Dense()`), the fully connected layer automatically initializes weights in the graph and keeps on training them as you train the model. Hence, you did not need to initialize those weights when initializing the parameters.\n",
    "\n",
    "Lastly, before creating the model, you'll need to define the output using the last of the function's compositions (in this example, a Dense layer): \n",
    "\n",
    "- **outputs = tf.keras.layers.Dense(units=6, activation='softmax')(F)**\n",
    "\n",
    "\n",
    "#### Window, kernel, filter, pool\n",
    "\n",
    "The words \"kernel\" and \"filter\" are used to refer to the same thing. The word \"filter\" accounts for the amount of \"kernels\" that will be used in a single convolution layer. \"Pool\" is the name of the operation that takes the max or average value of the kernels. \n",
    "\n",
    "This is why the parameter `pool_size` refers to `kernel_size`, and you use `(f,f)` to refer to the filter size. \n",
    "\n",
    "Pool size and kernel size refer to the same thing in different objects - They refer to the shape of the window where the operation takes place. "
   ]
  },
  {
   "cell_type": "markdown",
   "metadata": {},
   "source": [
    "<a name='ex-2'></a>\n",
    "### Exercise 2 - convolutional_model\n",
    "\n",
    "Implement the `convolutional_model` function below to build the following model: `CONV2D -> RELU -> MAXPOOL -> CONV2D -> RELU -> MAXPOOL -> FLATTEN -> DENSE`. Use the functions above! \n",
    "\n",
    "Also, plug in the following parameters for all the steps:\n",
    "\n",
    " - [Conv2D](https://www.tensorflow.org/api_docs/python/tf/keras/layers/Conv2D): Use 8 4 by 4 filters, stride 1, padding is \"SAME\"\n",
    " - [ReLU](https://www.tensorflow.org/api_docs/python/tf/keras/layers/ReLU)\n",
    " - [MaxPool2D](https://www.tensorflow.org/api_docs/python/tf/keras/layers/MaxPool2D): Use an 8 by 8 filter size and an 8 by 8 stride, padding is \"SAME\"\n",
    " - **Conv2D**: Use 16 2 by 2 filters, stride 1, padding is \"SAME\"\n",
    " - **ReLU**\n",
    " - **MaxPool2D**: Use a 4 by 4 filter size and a 4 by 4 stride, padding is \"SAME\"\n",
    " - [Flatten](https://www.tensorflow.org/api_docs/python/tf/keras/layers/Flatten) the previous output.\n",
    " - Fully-connected ([Dense](https://www.tensorflow.org/api_docs/python/tf/keras/layers/Dense)) layer: Apply a fully connected layer with 6 neurons and a softmax activation. "
   ]
  },
  {
   "cell_type": "code",
   "execution_count": 18,
   "metadata": {
    "deletable": false,
    "nbgrader": {
     "cell_type": "code",
     "checksum": "f58643806aa8380c96225fc8b4c5e7aa",
     "grade": false,
     "grade_id": "cell-dac51744a9e03f51",
     "locked": false,
     "schema_version": 3,
     "solution": true,
     "task": false
    }
   },
   "outputs": [],
   "source": [
    "# GRADED FUNCTION: convolutional_model\n",
    "\n",
    "def convolutional_model(input_shape):\n",
    "    \"\"\"\n",
    "    Implements the forward propagation for the model:\n",
    "    CONV2D -> RELU -> MAXPOOL -> CONV2D -> RELU -> MAXPOOL -> FLATTEN -> DENSE\n",
    "    \n",
    "    Note that for simplicity and grading purposes, you'll hard-code some values\n",
    "    such as the stride and kernel (filter) sizes. \n",
    "    Normally, functions should take these values as function parameters.\n",
    "    \n",
    "    Arguments:\n",
    "    input_img -- input dataset, of shape (input_shape)\n",
    "\n",
    "    Returns:\n",
    "    model -- TF Keras model (object containing the information for the entire training process) \n",
    "    \"\"\"\n",
    "\n",
    "    input_img = tf.keras.Input(shape=input_shape)\n",
    "    ## CONV2D: 8 filters 4x4, stride of 1, padding 'SAME'\n",
    "    #Z1 = tfl.Conv2D(8, 4, strides = 1, padding ='same' )(input_img)\n",
    "    ## RELU\n",
    "    #A1 = tfl.ReLU()(Z1)\n",
    "    ## MAXPOOL: window 8x8, stride 8, padding 'SAME'\n",
    "   # P1 = tfl.MaxPool2D(pool_size = (8,8),  strides = 1, padding ='same' )(A1)\n",
    "    ## CONV2D: 16 filters 2x2, stride 1, padding 'SAME'\n",
    "    #Z2 = tfl.Conv2D(16 ,2, strides = 1, padding ='same' )(P1)\n",
    "    ## RELU\n",
    "   # A2 = tfl.ReLU()(Z2)\n",
    "    ## MAXPOOL: window 4x4, stride 4, padding 'SAME'\n",
    "  #  P2 = tfl.MaxPool2D(pool_size = (4,4),  strides = 4, padding ='same' )(A2)\n",
    "    ## FLATTEN\n",
    " #   F = tfl.Flatten()(P2)\n",
    "    ## Dense layer\n",
    "    ## 6 neurons in output layer. Hint: one of the arguments should be \"activation='softmax'\" \n",
    "#    outputs = tfl.Dense( 6 , activation ='softmax' )(F)\n",
    "    # YOUR CODE STARTS HERE\n",
    "    Z1=tfl.Conv2D(8,4, strides=1, padding='same')(input_img)\n",
    "    A1=tfl.ReLU()(Z1)\n",
    "    P1=tfl.MaxPool2D(pool_size=(8,8), strides=8, padding='same')(A1)\n",
    "    Z2=tfl.Conv2D(16,2, strides=1, padding='same')(P1)\n",
    "    A2=tfl.ReLU()(Z2)\n",
    "    P2=tfl.MaxPool2D(pool_size=(4,4), strides=4, padding='same')(A2)\n",
    "    F=tfl.Flatten()(P2)\n",
    "    outputs=tfl.Dense(6, activation='softmax')(F)\n",
    "    \n",
    "    # YOUR CODE ENDS HERE\n",
    "    model = tf.keras.Model(inputs=input_img, outputs=outputs)\n",
    "    return model"
   ]
  },
  {
   "cell_type": "code",
   "execution_count": 19,
   "metadata": {
    "deletable": false,
    "editable": false,
    "nbgrader": {
     "cell_type": "code",
     "checksum": "483d626949930a0b0ef20997e7c6ba72",
     "grade": true,
     "grade_id": "cell-45d22e92042174c9",
     "locked": true,
     "points": 10,
     "schema_version": 3,
     "solution": false,
     "task": false
    }
   },
   "outputs": [
    {
     "name": "stdout",
     "output_type": "stream",
     "text": [
      "Model: \"functional_3\"\n",
      "_________________________________________________________________\n",
      "Layer (type)                 Output Shape              Param #   \n",
      "=================================================================\n",
      "input_2 (InputLayer)         [(None, 64, 64, 3)]       0         \n",
      "_________________________________________________________________\n",
      "conv2d_2 (Conv2D)            (None, 64, 64, 8)         392       \n",
      "_________________________________________________________________\n",
      "re_lu_3 (ReLU)               (None, 64, 64, 8)         0         \n",
      "_________________________________________________________________\n",
      "max_pooling2d_2 (MaxPooling2 (None, 8, 8, 8)           0         \n",
      "_________________________________________________________________\n",
      "conv2d_3 (Conv2D)            (None, 8, 8, 16)          528       \n",
      "_________________________________________________________________\n",
      "re_lu_4 (ReLU)               (None, 8, 8, 16)          0         \n",
      "_________________________________________________________________\n",
      "max_pooling2d_3 (MaxPooling2 (None, 2, 2, 16)          0         \n",
      "_________________________________________________________________\n",
      "flatten_2 (Flatten)          (None, 64)                0         \n",
      "_________________________________________________________________\n",
      "dense_1 (Dense)              (None, 6)                 390       \n",
      "=================================================================\n",
      "Total params: 1,310\n",
      "Trainable params: 1,310\n",
      "Non-trainable params: 0\n",
      "_________________________________________________________________\n",
      "\u001b[32mAll tests passed!\u001b[0m\n"
     ]
    }
   ],
   "source": [
    "conv_model = convolutional_model((64, 64, 3))\n",
    "conv_model.compile(optimizer='adam',\n",
    "                  loss='categorical_crossentropy',\n",
    "                  metrics=['accuracy'])\n",
    "conv_model.summary()\n",
    "    \n",
    "output = [['InputLayer', [(None, 64, 64, 3)], 0],\n",
    "        ['Conv2D', (None, 64, 64, 8), 392, 'same', 'linear', 'GlorotUniform'],\n",
    "        ['ReLU', (None, 64, 64, 8), 0],\n",
    "        ['MaxPooling2D', (None, 8, 8, 8), 0, (8, 8), (8, 8), 'same'],\n",
    "        ['Conv2D', (None, 8, 8, 16), 528, 'same', 'linear', 'GlorotUniform'],\n",
    "        ['ReLU', (None, 8, 8, 16), 0],\n",
    "        ['MaxPooling2D', (None, 2, 2, 16), 0, (4, 4), (4, 4), 'same'],\n",
    "        ['Flatten', (None, 64), 0],\n",
    "        ['Dense', (None, 6), 390, 'softmax']]\n",
    "    \n",
    "comparator(summary(conv_model), output)"
   ]
  },
  {
   "cell_type": "markdown",
   "metadata": {},
   "source": [
    "Both the Sequential and Functional APIs return a TF Keras model object. The only difference is how inputs are handled inside the object model! "
   ]
  },
  {
   "cell_type": "markdown",
   "metadata": {},
   "source": [
    "<a name='4-4'></a>\n",
    "### 4.4 - Train the Model"
   ]
  },
  {
   "cell_type": "code",
   "execution_count": 20,
   "metadata": {},
   "outputs": [
    {
     "name": "stdout",
     "output_type": "stream",
     "text": [
      "Epoch 1/100\n",
      "17/17 [==============================] - 2s 99ms/step - loss: 1.7969 - accuracy: 0.1556 - val_loss: 1.7906 - val_accuracy: 0.1667\n",
      "Epoch 2/100\n",
      "17/17 [==============================] - 2s 94ms/step - loss: 1.7890 - accuracy: 0.1713 - val_loss: 1.7866 - val_accuracy: 0.2417\n",
      "Epoch 3/100\n",
      "17/17 [==============================] - 2s 100ms/step - loss: 1.7844 - accuracy: 0.2093 - val_loss: 1.7827 - val_accuracy: 0.2500\n",
      "Epoch 4/100\n",
      "17/17 [==============================] - 2s 100ms/step - loss: 1.7807 - accuracy: 0.2269 - val_loss: 1.7788 - val_accuracy: 0.3167\n",
      "Epoch 5/100\n",
      "17/17 [==============================] - 2s 96ms/step - loss: 1.7754 - accuracy: 0.2944 - val_loss: 1.7737 - val_accuracy: 0.2583\n",
      "Epoch 6/100\n",
      "17/17 [==============================] - 2s 95ms/step - loss: 1.7667 - accuracy: 0.2898 - val_loss: 1.7645 - val_accuracy: 0.2833\n",
      "Epoch 7/100\n",
      "17/17 [==============================] - 2s 100ms/step - loss: 1.7563 - accuracy: 0.3241 - val_loss: 1.7510 - val_accuracy: 0.3583\n",
      "Epoch 8/100\n",
      "17/17 [==============================] - 2s 100ms/step - loss: 1.7416 - accuracy: 0.3500 - val_loss: 1.7358 - val_accuracy: 0.3750\n",
      "Epoch 9/100\n",
      "17/17 [==============================] - 2s 100ms/step - loss: 1.7244 - accuracy: 0.3833 - val_loss: 1.7186 - val_accuracy: 0.4083\n",
      "Epoch 10/100\n",
      "17/17 [==============================] - 2s 100ms/step - loss: 1.7015 - accuracy: 0.4222 - val_loss: 1.6972 - val_accuracy: 0.4000\n",
      "Epoch 11/100\n",
      "17/17 [==============================] - 2s 95ms/step - loss: 1.6759 - accuracy: 0.4389 - val_loss: 1.6719 - val_accuracy: 0.4417\n",
      "Epoch 12/100\n",
      "17/17 [==============================] - 2s 100ms/step - loss: 1.6459 - accuracy: 0.4722 - val_loss: 1.6428 - val_accuracy: 0.4417\n",
      "Epoch 13/100\n",
      "17/17 [==============================] - 2s 95ms/step - loss: 1.6113 - accuracy: 0.4769 - val_loss: 1.6095 - val_accuracy: 0.4500\n",
      "Epoch 14/100\n",
      "17/17 [==============================] - 2s 100ms/step - loss: 1.5736 - accuracy: 0.4991 - val_loss: 1.5733 - val_accuracy: 0.4667\n",
      "Epoch 15/100\n",
      "17/17 [==============================] - 2s 100ms/step - loss: 1.5323 - accuracy: 0.5111 - val_loss: 1.5337 - val_accuracy: 0.5000\n",
      "Epoch 16/100\n",
      "17/17 [==============================] - 2s 100ms/step - loss: 1.4885 - accuracy: 0.5333 - val_loss: 1.4925 - val_accuracy: 0.5083\n",
      "Epoch 17/100\n",
      "17/17 [==============================] - 2s 100ms/step - loss: 1.4443 - accuracy: 0.5370 - val_loss: 1.4478 - val_accuracy: 0.5500\n",
      "Epoch 18/100\n",
      "17/17 [==============================] - 2s 100ms/step - loss: 1.3977 - accuracy: 0.5657 - val_loss: 1.4065 - val_accuracy: 0.5417\n",
      "Epoch 19/100\n",
      "17/17 [==============================] - 2s 100ms/step - loss: 1.3526 - accuracy: 0.5769 - val_loss: 1.3647 - val_accuracy: 0.5417\n",
      "Epoch 20/100\n",
      "17/17 [==============================] - 2s 95ms/step - loss: 1.3092 - accuracy: 0.5861 - val_loss: 1.3262 - val_accuracy: 0.5500\n",
      "Epoch 21/100\n",
      "17/17 [==============================] - 2s 94ms/step - loss: 1.2664 - accuracy: 0.5944 - val_loss: 1.2876 - val_accuracy: 0.5417\n",
      "Epoch 22/100\n",
      "17/17 [==============================] - 2s 94ms/step - loss: 1.2271 - accuracy: 0.5972 - val_loss: 1.2525 - val_accuracy: 0.5583\n",
      "Epoch 23/100\n",
      "17/17 [==============================] - 2s 95ms/step - loss: 1.1895 - accuracy: 0.6130 - val_loss: 1.2182 - val_accuracy: 0.5917\n",
      "Epoch 24/100\n",
      "17/17 [==============================] - 2s 95ms/step - loss: 1.1529 - accuracy: 0.6222 - val_loss: 1.1843 - val_accuracy: 0.6167\n",
      "Epoch 25/100\n",
      "17/17 [==============================] - 2s 95ms/step - loss: 1.1192 - accuracy: 0.6287 - val_loss: 1.1527 - val_accuracy: 0.6250\n",
      "Epoch 26/100\n",
      "17/17 [==============================] - 2s 100ms/step - loss: 1.0869 - accuracy: 0.6380 - val_loss: 1.1248 - val_accuracy: 0.6333\n",
      "Epoch 27/100\n",
      "17/17 [==============================] - 2s 100ms/step - loss: 1.0558 - accuracy: 0.6481 - val_loss: 1.0997 - val_accuracy: 0.6167\n",
      "Epoch 28/100\n",
      "17/17 [==============================] - 2s 100ms/step - loss: 1.0256 - accuracy: 0.6583 - val_loss: 1.0713 - val_accuracy: 0.6417\n",
      "Epoch 29/100\n",
      "17/17 [==============================] - 2s 95ms/step - loss: 0.9960 - accuracy: 0.6685 - val_loss: 1.0406 - val_accuracy: 0.6583\n",
      "Epoch 30/100\n",
      "17/17 [==============================] - 2s 100ms/step - loss: 0.9669 - accuracy: 0.6787 - val_loss: 1.0116 - val_accuracy: 0.6917\n",
      "Epoch 31/100\n",
      "17/17 [==============================] - 2s 100ms/step - loss: 0.9382 - accuracy: 0.6880 - val_loss: 0.9837 - val_accuracy: 0.7000\n",
      "Epoch 32/100\n",
      "17/17 [==============================] - 2s 100ms/step - loss: 0.9120 - accuracy: 0.7000 - val_loss: 0.9584 - val_accuracy: 0.7000\n",
      "Epoch 33/100\n",
      "17/17 [==============================] - 2s 100ms/step - loss: 0.8850 - accuracy: 0.7065 - val_loss: 0.9316 - val_accuracy: 0.7000\n",
      "Epoch 34/100\n",
      "17/17 [==============================] - 2s 100ms/step - loss: 0.8600 - accuracy: 0.7194 - val_loss: 0.9087 - val_accuracy: 0.7000\n",
      "Epoch 35/100\n",
      "17/17 [==============================] - 2s 96ms/step - loss: 0.8383 - accuracy: 0.7250 - val_loss: 0.8909 - val_accuracy: 0.7000\n",
      "Epoch 36/100\n",
      "17/17 [==============================] - 2s 94ms/step - loss: 0.8163 - accuracy: 0.7370 - val_loss: 0.8678 - val_accuracy: 0.7000\n",
      "Epoch 37/100\n",
      "17/17 [==============================] - 2s 99ms/step - loss: 0.7966 - accuracy: 0.7454 - val_loss: 0.8504 - val_accuracy: 0.7083\n",
      "Epoch 38/100\n",
      "17/17 [==============================] - 2s 95ms/step - loss: 0.7782 - accuracy: 0.7528 - val_loss: 0.8305 - val_accuracy: 0.7167\n",
      "Epoch 39/100\n",
      "17/17 [==============================] - 2s 100ms/step - loss: 0.7605 - accuracy: 0.7574 - val_loss: 0.8183 - val_accuracy: 0.7167\n",
      "Epoch 40/100\n",
      "17/17 [==============================] - 2s 95ms/step - loss: 0.7441 - accuracy: 0.7593 - val_loss: 0.8000 - val_accuracy: 0.7167\n",
      "Epoch 41/100\n",
      "17/17 [==============================] - 2s 100ms/step - loss: 0.7287 - accuracy: 0.7602 - val_loss: 0.7879 - val_accuracy: 0.7333\n",
      "Epoch 42/100\n",
      "17/17 [==============================] - 2s 100ms/step - loss: 0.7143 - accuracy: 0.7667 - val_loss: 0.7733 - val_accuracy: 0.7333\n",
      "Epoch 43/100\n",
      "17/17 [==============================] - 2s 100ms/step - loss: 0.7002 - accuracy: 0.7657 - val_loss: 0.7612 - val_accuracy: 0.7333\n",
      "Epoch 44/100\n",
      "17/17 [==============================] - 2s 99ms/step - loss: 0.6875 - accuracy: 0.7676 - val_loss: 0.7491 - val_accuracy: 0.7417\n",
      "Epoch 45/100\n",
      "17/17 [==============================] - 2s 100ms/step - loss: 0.6755 - accuracy: 0.7694 - val_loss: 0.7378 - val_accuracy: 0.7500\n",
      "Epoch 46/100\n",
      "17/17 [==============================] - 2s 100ms/step - loss: 0.6637 - accuracy: 0.7731 - val_loss: 0.7257 - val_accuracy: 0.7583\n",
      "Epoch 47/100\n",
      "17/17 [==============================] - 2s 100ms/step - loss: 0.6525 - accuracy: 0.7778 - val_loss: 0.7154 - val_accuracy: 0.7667\n",
      "Epoch 48/100\n",
      "17/17 [==============================] - 2s 95ms/step - loss: 0.6419 - accuracy: 0.7787 - val_loss: 0.7062 - val_accuracy: 0.7667\n",
      "Epoch 49/100\n",
      "17/17 [==============================] - 2s 96ms/step - loss: 0.6313 - accuracy: 0.7843 - val_loss: 0.6964 - val_accuracy: 0.7667\n",
      "Epoch 50/100\n",
      "17/17 [==============================] - 2s 94ms/step - loss: 0.6218 - accuracy: 0.7843 - val_loss: 0.6880 - val_accuracy: 0.7750\n",
      "Epoch 51/100\n",
      "17/17 [==============================] - 2s 100ms/step - loss: 0.6126 - accuracy: 0.7870 - val_loss: 0.6788 - val_accuracy: 0.7750\n",
      "Epoch 52/100\n",
      "17/17 [==============================] - 2s 100ms/step - loss: 0.6037 - accuracy: 0.7935 - val_loss: 0.6727 - val_accuracy: 0.7833\n",
      "Epoch 53/100\n",
      "17/17 [==============================] - 2s 100ms/step - loss: 0.5955 - accuracy: 0.7963 - val_loss: 0.6625 - val_accuracy: 0.7750\n",
      "Epoch 54/100\n",
      "17/17 [==============================] - 2s 100ms/step - loss: 0.5875 - accuracy: 0.7991 - val_loss: 0.6578 - val_accuracy: 0.7750\n",
      "Epoch 55/100\n",
      "17/17 [==============================] - 2s 95ms/step - loss: 0.5794 - accuracy: 0.8019 - val_loss: 0.6507 - val_accuracy: 0.7750\n",
      "Epoch 56/100\n",
      "17/17 [==============================] - 2s 100ms/step - loss: 0.5719 - accuracy: 0.8037 - val_loss: 0.6430 - val_accuracy: 0.7750\n",
      "Epoch 57/100\n",
      "17/17 [==============================] - 2s 100ms/step - loss: 0.5649 - accuracy: 0.8056 - val_loss: 0.6374 - val_accuracy: 0.7750\n",
      "Epoch 58/100\n",
      "17/17 [==============================] - 2s 100ms/step - loss: 0.5580 - accuracy: 0.8056 - val_loss: 0.6312 - val_accuracy: 0.7833\n",
      "Epoch 59/100\n",
      "17/17 [==============================] - 2s 95ms/step - loss: 0.5519 - accuracy: 0.8074 - val_loss: 0.6253 - val_accuracy: 0.7833\n",
      "Epoch 60/100\n",
      "17/17 [==============================] - 2s 100ms/step - loss: 0.5453 - accuracy: 0.8120 - val_loss: 0.6202 - val_accuracy: 0.7833\n",
      "Epoch 61/100\n",
      "17/17 [==============================] - 2s 100ms/step - loss: 0.5391 - accuracy: 0.8139 - val_loss: 0.6137 - val_accuracy: 0.8000\n",
      "Epoch 62/100\n",
      "17/17 [==============================] - 2s 95ms/step - loss: 0.5331 - accuracy: 0.8157 - val_loss: 0.6085 - val_accuracy: 0.8000\n",
      "Epoch 63/100\n",
      "17/17 [==============================] - 2s 95ms/step - loss: 0.5277 - accuracy: 0.8204 - val_loss: 0.6027 - val_accuracy: 0.8000\n",
      "Epoch 64/100\n",
      "17/17 [==============================] - 2s 95ms/step - loss: 0.5219 - accuracy: 0.8250 - val_loss: 0.5980 - val_accuracy: 0.8000\n",
      "Epoch 65/100\n",
      "17/17 [==============================] - 2s 94ms/step - loss: 0.5165 - accuracy: 0.8306 - val_loss: 0.5924 - val_accuracy: 0.8000\n",
      "Epoch 66/100\n",
      "17/17 [==============================] - 2s 94ms/step - loss: 0.5112 - accuracy: 0.8333 - val_loss: 0.5876 - val_accuracy: 0.8083\n",
      "Epoch 67/100\n",
      "17/17 [==============================] - 2s 94ms/step - loss: 0.5064 - accuracy: 0.8380 - val_loss: 0.5816 - val_accuracy: 0.8000\n",
      "Epoch 68/100\n",
      "17/17 [==============================] - 2s 100ms/step - loss: 0.5012 - accuracy: 0.8389 - val_loss: 0.5791 - val_accuracy: 0.8083\n",
      "Epoch 69/100\n",
      "17/17 [==============================] - 2s 100ms/step - loss: 0.4969 - accuracy: 0.8389 - val_loss: 0.5730 - val_accuracy: 0.8083\n",
      "Epoch 70/100\n",
      "17/17 [==============================] - 2s 100ms/step - loss: 0.4918 - accuracy: 0.8435 - val_loss: 0.5695 - val_accuracy: 0.8083\n",
      "Epoch 71/100\n",
      "17/17 [==============================] - 2s 95ms/step - loss: 0.4870 - accuracy: 0.8463 - val_loss: 0.5649 - val_accuracy: 0.8083\n",
      "Epoch 72/100\n",
      "17/17 [==============================] - 2s 95ms/step - loss: 0.4828 - accuracy: 0.8463 - val_loss: 0.5605 - val_accuracy: 0.8083\n",
      "Epoch 73/100\n",
      "17/17 [==============================] - 2s 95ms/step - loss: 0.4782 - accuracy: 0.8491 - val_loss: 0.5577 - val_accuracy: 0.8000\n",
      "Epoch 74/100\n",
      "17/17 [==============================] - 2s 95ms/step - loss: 0.4747 - accuracy: 0.8472 - val_loss: 0.5518 - val_accuracy: 0.8000\n",
      "Epoch 75/100\n",
      "17/17 [==============================] - 2s 94ms/step - loss: 0.4699 - accuracy: 0.8519 - val_loss: 0.5494 - val_accuracy: 0.8000\n",
      "Epoch 76/100\n",
      "17/17 [==============================] - 2s 95ms/step - loss: 0.4659 - accuracy: 0.8537 - val_loss: 0.5437 - val_accuracy: 0.7917\n",
      "Epoch 77/100\n",
      "17/17 [==============================] - 2s 100ms/step - loss: 0.4618 - accuracy: 0.8546 - val_loss: 0.5424 - val_accuracy: 0.7917\n",
      "Epoch 78/100\n",
      "17/17 [==============================] - 2s 100ms/step - loss: 0.4578 - accuracy: 0.8556 - val_loss: 0.5385 - val_accuracy: 0.8000\n",
      "Epoch 79/100\n",
      "17/17 [==============================] - 2s 100ms/step - loss: 0.4544 - accuracy: 0.8556 - val_loss: 0.5338 - val_accuracy: 0.8000\n",
      "Epoch 80/100\n",
      "17/17 [==============================] - 2s 95ms/step - loss: 0.4507 - accuracy: 0.8565 - val_loss: 0.5326 - val_accuracy: 0.8000\n",
      "Epoch 81/100\n",
      "17/17 [==============================] - 2s 95ms/step - loss: 0.4471 - accuracy: 0.8583 - val_loss: 0.5280 - val_accuracy: 0.8000\n",
      "Epoch 82/100\n",
      "17/17 [==============================] - 2s 100ms/step - loss: 0.4431 - accuracy: 0.8593 - val_loss: 0.5265 - val_accuracy: 0.8000\n",
      "Epoch 83/100\n",
      "17/17 [==============================] - 2s 100ms/step - loss: 0.4398 - accuracy: 0.8593 - val_loss: 0.5211 - val_accuracy: 0.8000\n",
      "Epoch 84/100\n",
      "17/17 [==============================] - 2s 100ms/step - loss: 0.4360 - accuracy: 0.8611 - val_loss: 0.5209 - val_accuracy: 0.8000\n",
      "Epoch 85/100\n",
      "17/17 [==============================] - 2s 100ms/step - loss: 0.4336 - accuracy: 0.8611 - val_loss: 0.5159 - val_accuracy: 0.8000\n",
      "Epoch 86/100\n",
      "17/17 [==============================] - 2s 95ms/step - loss: 0.4298 - accuracy: 0.8602 - val_loss: 0.5143 - val_accuracy: 0.8000\n",
      "Epoch 87/100\n",
      "17/17 [==============================] - 2s 100ms/step - loss: 0.4267 - accuracy: 0.8620 - val_loss: 0.5106 - val_accuracy: 0.8000\n",
      "Epoch 88/100\n",
      "17/17 [==============================] - 2s 95ms/step - loss: 0.4235 - accuracy: 0.8611 - val_loss: 0.5087 - val_accuracy: 0.8000\n",
      "Epoch 89/100\n",
      "17/17 [==============================] - 2s 94ms/step - loss: 0.4206 - accuracy: 0.8620 - val_loss: 0.5080 - val_accuracy: 0.8000\n",
      "Epoch 90/100\n",
      "17/17 [==============================] - 2s 94ms/step - loss: 0.4176 - accuracy: 0.8667 - val_loss: 0.5023 - val_accuracy: 0.8000\n",
      "Epoch 91/100\n",
      "17/17 [==============================] - 2s 95ms/step - loss: 0.4143 - accuracy: 0.8667 - val_loss: 0.5015 - val_accuracy: 0.8000\n",
      "Epoch 92/100\n",
      "17/17 [==============================] - 2s 95ms/step - loss: 0.4114 - accuracy: 0.8676 - val_loss: 0.4979 - val_accuracy: 0.8000\n",
      "Epoch 93/100\n",
      "17/17 [==============================] - 2s 95ms/step - loss: 0.4085 - accuracy: 0.8657 - val_loss: 0.4963 - val_accuracy: 0.8000\n",
      "Epoch 94/100\n",
      "17/17 [==============================] - 2s 95ms/step - loss: 0.4056 - accuracy: 0.8676 - val_loss: 0.4948 - val_accuracy: 0.8000\n",
      "Epoch 95/100\n",
      "17/17 [==============================] - 2s 95ms/step - loss: 0.4027 - accuracy: 0.8685 - val_loss: 0.4942 - val_accuracy: 0.8083\n",
      "Epoch 96/100\n",
      "17/17 [==============================] - 2s 100ms/step - loss: 0.4003 - accuracy: 0.8722 - val_loss: 0.4907 - val_accuracy: 0.8083\n",
      "Epoch 97/100\n",
      "17/17 [==============================] - 2s 95ms/step - loss: 0.3968 - accuracy: 0.8713 - val_loss: 0.4889 - val_accuracy: 0.8083\n",
      "Epoch 98/100\n",
      "17/17 [==============================] - 2s 94ms/step - loss: 0.3942 - accuracy: 0.8731 - val_loss: 0.4867 - val_accuracy: 0.8083\n",
      "Epoch 99/100\n",
      "17/17 [==============================] - 2s 100ms/step - loss: 0.3916 - accuracy: 0.8741 - val_loss: 0.4844 - val_accuracy: 0.8083\n",
      "Epoch 100/100\n",
      "17/17 [==============================] - 2s 95ms/step - loss: 0.3890 - accuracy: 0.8750 - val_loss: 0.4827 - val_accuracy: 0.8083\n"
     ]
    }
   ],
   "source": [
    "train_dataset = tf.data.Dataset.from_tensor_slices((X_train, Y_train)).batch(64)\n",
    "test_dataset = tf.data.Dataset.from_tensor_slices((X_test, Y_test)).batch(64)\n",
    "history = conv_model.fit(train_dataset, epochs=100, validation_data=test_dataset)"
   ]
  },
  {
   "cell_type": "markdown",
   "metadata": {},
   "source": [
    "<a name='5'></a>\n",
    "## 5 - History Object \n",
    "\n",
    "The history object is an output of the `.fit()` operation, and provides a record of all the loss and metric values in memory. It's stored as a dictionary that you can retrieve at `history.history`: "
   ]
  },
  {
   "cell_type": "code",
   "execution_count": 21,
   "metadata": {},
   "outputs": [
    {
     "data": {
      "text/plain": [
       "{'loss': [1.7969447374343872,\n",
       "  1.7890114784240723,\n",
       "  1.784415602684021,\n",
       "  1.7807276248931885,\n",
       "  1.7753857374191284,\n",
       "  1.7666822671890259,\n",
       "  1.756291389465332,\n",
       "  1.7416409254074097,\n",
       "  1.7243775129318237,\n",
       "  1.7015361785888672,\n",
       "  1.6759276390075684,\n",
       "  1.64589262008667,\n",
       "  1.611320972442627,\n",
       "  1.5735856294631958,\n",
       "  1.5323489904403687,\n",
       "  1.4885331392288208,\n",
       "  1.4443250894546509,\n",
       "  1.3977168798446655,\n",
       "  1.3525954484939575,\n",
       "  1.3091539144515991,\n",
       "  1.2663871049880981,\n",
       "  1.2271448373794556,\n",
       "  1.1895371675491333,\n",
       "  1.1529159545898438,\n",
       "  1.1191935539245605,\n",
       "  1.0869344472885132,\n",
       "  1.0558230876922607,\n",
       "  1.025598406791687,\n",
       "  0.9959973096847534,\n",
       "  0.9669463038444519,\n",
       "  0.9381517171859741,\n",
       "  0.9119596481323242,\n",
       "  0.884968101978302,\n",
       "  0.8600299954414368,\n",
       "  0.8382501006126404,\n",
       "  0.8162822723388672,\n",
       "  0.7966461181640625,\n",
       "  0.7782031893730164,\n",
       "  0.7605203986167908,\n",
       "  0.7441077828407288,\n",
       "  0.7286996245384216,\n",
       "  0.7142891883850098,\n",
       "  0.7002142071723938,\n",
       "  0.6874985694885254,\n",
       "  0.6754699945449829,\n",
       "  0.663666844367981,\n",
       "  0.6524546146392822,\n",
       "  0.641913115978241,\n",
       "  0.6313410997390747,\n",
       "  0.6217932105064392,\n",
       "  0.6125687956809998,\n",
       "  0.6036707162857056,\n",
       "  0.5954634547233582,\n",
       "  0.5875362753868103,\n",
       "  0.5794036388397217,\n",
       "  0.5718600749969482,\n",
       "  0.5649223327636719,\n",
       "  0.5580137372016907,\n",
       "  0.5518678426742554,\n",
       "  0.5453037023544312,\n",
       "  0.539122998714447,\n",
       "  0.5331388115882874,\n",
       "  0.5277243256568909,\n",
       "  0.5219159722328186,\n",
       "  0.5164784789085388,\n",
       "  0.5112476348876953,\n",
       "  0.5064125061035156,\n",
       "  0.5012422204017639,\n",
       "  0.4969167113304138,\n",
       "  0.4918104410171509,\n",
       "  0.4869768023490906,\n",
       "  0.4828423857688904,\n",
       "  0.47820740938186646,\n",
       "  0.4747249484062195,\n",
       "  0.4699203073978424,\n",
       "  0.46589168906211853,\n",
       "  0.46184733510017395,\n",
       "  0.45779141783714294,\n",
       "  0.45438864827156067,\n",
       "  0.45073753595352173,\n",
       "  0.4470811188220978,\n",
       "  0.44309964776039124,\n",
       "  0.4397834837436676,\n",
       "  0.43596431612968445,\n",
       "  0.4335896670818329,\n",
       "  0.4298144280910492,\n",
       "  0.42670512199401855,\n",
       "  0.4234715700149536,\n",
       "  0.42059072852134705,\n",
       "  0.4176137447357178,\n",
       "  0.4143108129501343,\n",
       "  0.4113766849040985,\n",
       "  0.4084947407245636,\n",
       "  0.405592679977417,\n",
       "  0.40267595648765564,\n",
       "  0.40026000142097473,\n",
       "  0.39676058292388916,\n",
       "  0.39420631527900696,\n",
       "  0.39158177375793457,\n",
       "  0.3889920711517334],\n",
       " 'accuracy': [0.15555556118488312,\n",
       "  0.17129629850387573,\n",
       "  0.2092592567205429,\n",
       "  0.22685185074806213,\n",
       "  0.2944444417953491,\n",
       "  0.2898148000240326,\n",
       "  0.32407405972480774,\n",
       "  0.3499999940395355,\n",
       "  0.38333332538604736,\n",
       "  0.42222222685813904,\n",
       "  0.43888887763023376,\n",
       "  0.4722222089767456,\n",
       "  0.47685185074806213,\n",
       "  0.4990740716457367,\n",
       "  0.5111111402511597,\n",
       "  0.5333333611488342,\n",
       "  0.5370370149612427,\n",
       "  0.5657407641410828,\n",
       "  0.5768518447875977,\n",
       "  0.5861111283302307,\n",
       "  0.5944444537162781,\n",
       "  0.5972222089767456,\n",
       "  0.6129629611968994,\n",
       "  0.6222222447395325,\n",
       "  0.6287037134170532,\n",
       "  0.6379629373550415,\n",
       "  0.6481481194496155,\n",
       "  0.6583333611488342,\n",
       "  0.6685185432434082,\n",
       "  0.6787037253379822,\n",
       "  0.6879629492759705,\n",
       "  0.699999988079071,\n",
       "  0.7064814567565918,\n",
       "  0.7194444537162781,\n",
       "  0.7250000238418579,\n",
       "  0.7370370626449585,\n",
       "  0.7453703880310059,\n",
       "  0.7527777552604675,\n",
       "  0.7574074268341064,\n",
       "  0.7592592835426331,\n",
       "  0.760185182094574,\n",
       "  0.7666666507720947,\n",
       "  0.7657407522201538,\n",
       "  0.7675926089286804,\n",
       "  0.769444465637207,\n",
       "  0.7731481194496155,\n",
       "  0.7777777910232544,\n",
       "  0.7787036895751953,\n",
       "  0.7842592597007751,\n",
       "  0.7842592597007751,\n",
       "  0.7870370149612427,\n",
       "  0.7935185432434082,\n",
       "  0.7962962985038757,\n",
       "  0.7990740537643433,\n",
       "  0.8018518686294556,\n",
       "  0.8037037253379822,\n",
       "  0.8055555820465088,\n",
       "  0.8055555820465088,\n",
       "  0.8074073791503906,\n",
       "  0.8120370507240295,\n",
       "  0.8138889074325562,\n",
       "  0.8157407641410828,\n",
       "  0.8203703761100769,\n",
       "  0.824999988079071,\n",
       "  0.8305555582046509,\n",
       "  0.8333333134651184,\n",
       "  0.8379629850387573,\n",
       "  0.8388888835906982,\n",
       "  0.8388888835906982,\n",
       "  0.8435184955596924,\n",
       "  0.8462963104248047,\n",
       "  0.8462963104248047,\n",
       "  0.8490740656852722,\n",
       "  0.8472222089767456,\n",
       "  0.8518518805503845,\n",
       "  0.8537036776542664,\n",
       "  0.854629635810852,\n",
       "  0.855555534362793,\n",
       "  0.855555534362793,\n",
       "  0.8564814925193787,\n",
       "  0.8583333492279053,\n",
       "  0.8592592477798462,\n",
       "  0.8592592477798462,\n",
       "  0.8611111044883728,\n",
       "  0.8611111044883728,\n",
       "  0.8601852059364319,\n",
       "  0.8620370626449585,\n",
       "  0.8611111044883728,\n",
       "  0.8620370626449585,\n",
       "  0.8666666746139526,\n",
       "  0.8666666746139526,\n",
       "  0.8675925731658936,\n",
       "  0.8657407164573669,\n",
       "  0.8675925731658936,\n",
       "  0.8685185313224792,\n",
       "  0.8722222447395325,\n",
       "  0.8712962865829468,\n",
       "  0.8731481432914734,\n",
       "  0.8740741014480591,\n",
       "  0.875],\n",
       " 'val_loss': [1.7906044721603394,\n",
       "  1.7866365909576416,\n",
       "  1.7826529741287231,\n",
       "  1.7787768840789795,\n",
       "  1.7736852169036865,\n",
       "  1.764527678489685,\n",
       "  1.7510383129119873,\n",
       "  1.7357538938522339,\n",
       "  1.7186205387115479,\n",
       "  1.6972137689590454,\n",
       "  1.6718766689300537,\n",
       "  1.6427737474441528,\n",
       "  1.609474539756775,\n",
       "  1.5733171701431274,\n",
       "  1.5336549282073975,\n",
       "  1.4925119876861572,\n",
       "  1.447762131690979,\n",
       "  1.4065194129943848,\n",
       "  1.3647178411483765,\n",
       "  1.3262057304382324,\n",
       "  1.2875875234603882,\n",
       "  1.25247061252594,\n",
       "  1.218193769454956,\n",
       "  1.1842819452285767,\n",
       "  1.152653455734253,\n",
       "  1.1248478889465332,\n",
       "  1.0996533632278442,\n",
       "  1.0712529420852661,\n",
       "  1.0406447649002075,\n",
       "  1.0116173028945923,\n",
       "  0.98372483253479,\n",
       "  0.9583569765090942,\n",
       "  0.9315516352653503,\n",
       "  0.9086530208587646,\n",
       "  0.8909124135971069,\n",
       "  0.8677937984466553,\n",
       "  0.850408136844635,\n",
       "  0.8304561376571655,\n",
       "  0.8182556629180908,\n",
       "  0.8000090718269348,\n",
       "  0.7878747582435608,\n",
       "  0.7733012437820435,\n",
       "  0.7611736059188843,\n",
       "  0.7491376996040344,\n",
       "  0.7377698421478271,\n",
       "  0.725683331489563,\n",
       "  0.7153809666633606,\n",
       "  0.7061556577682495,\n",
       "  0.6964206695556641,\n",
       "  0.688021719455719,\n",
       "  0.6787837147712708,\n",
       "  0.6727386713027954,\n",
       "  0.6624595522880554,\n",
       "  0.6577827334403992,\n",
       "  0.6506933569908142,\n",
       "  0.6429693698883057,\n",
       "  0.6373527646064758,\n",
       "  0.6312322020530701,\n",
       "  0.62534099817276,\n",
       "  0.6201719641685486,\n",
       "  0.6136893033981323,\n",
       "  0.6085350513458252,\n",
       "  0.6026754379272461,\n",
       "  0.5979554653167725,\n",
       "  0.5923874974250793,\n",
       "  0.5875880122184753,\n",
       "  0.5816469788551331,\n",
       "  0.5791369080543518,\n",
       "  0.573046088218689,\n",
       "  0.5695292353630066,\n",
       "  0.5649177432060242,\n",
       "  0.5604677796363831,\n",
       "  0.5576669573783875,\n",
       "  0.5518285632133484,\n",
       "  0.5494018197059631,\n",
       "  0.5436745882034302,\n",
       "  0.5423667430877686,\n",
       "  0.5384656190872192,\n",
       "  0.5338148474693298,\n",
       "  0.5325968861579895,\n",
       "  0.5280048251152039,\n",
       "  0.5264524221420288,\n",
       "  0.5211122035980225,\n",
       "  0.5208719968795776,\n",
       "  0.5159038305282593,\n",
       "  0.5142551064491272,\n",
       "  0.5106143355369568,\n",
       "  0.5086923837661743,\n",
       "  0.5080153346061707,\n",
       "  0.5023130178451538,\n",
       "  0.5015498399734497,\n",
       "  0.4978729784488678,\n",
       "  0.49632692337036133,\n",
       "  0.4947761297225952,\n",
       "  0.4942370057106018,\n",
       "  0.4907289743423462,\n",
       "  0.4888524115085602,\n",
       "  0.4867192208766937,\n",
       "  0.48438912630081177,\n",
       "  0.482718288898468],\n",
       " 'val_accuracy': [0.1666666716337204,\n",
       "  0.24166665971279144,\n",
       "  0.25,\n",
       "  0.3166666626930237,\n",
       "  0.25833332538604736,\n",
       "  0.28333333134651184,\n",
       "  0.3583333194255829,\n",
       "  0.375,\n",
       "  0.40833333134651184,\n",
       "  0.4000000059604645,\n",
       "  0.4416666626930237,\n",
       "  0.4416666626930237,\n",
       "  0.44999998807907104,\n",
       "  0.46666666865348816,\n",
       "  0.5,\n",
       "  0.5083333253860474,\n",
       "  0.550000011920929,\n",
       "  0.5416666865348816,\n",
       "  0.5416666865348816,\n",
       "  0.550000011920929,\n",
       "  0.5416666865348816,\n",
       "  0.5583333373069763,\n",
       "  0.5916666388511658,\n",
       "  0.6166666746139526,\n",
       "  0.625,\n",
       "  0.6333333253860474,\n",
       "  0.6166666746139526,\n",
       "  0.6416666507720947,\n",
       "  0.6583333611488342,\n",
       "  0.6916666626930237,\n",
       "  0.699999988079071,\n",
       "  0.699999988079071,\n",
       "  0.699999988079071,\n",
       "  0.699999988079071,\n",
       "  0.699999988079071,\n",
       "  0.699999988079071,\n",
       "  0.7083333134651184,\n",
       "  0.7166666388511658,\n",
       "  0.7166666388511658,\n",
       "  0.7166666388511658,\n",
       "  0.7333333492279053,\n",
       "  0.7333333492279053,\n",
       "  0.7333333492279053,\n",
       "  0.7416666746139526,\n",
       "  0.75,\n",
       "  0.7583333253860474,\n",
       "  0.7666666507720947,\n",
       "  0.7666666507720947,\n",
       "  0.7666666507720947,\n",
       "  0.7749999761581421,\n",
       "  0.7749999761581421,\n",
       "  0.7833333611488342,\n",
       "  0.7749999761581421,\n",
       "  0.7749999761581421,\n",
       "  0.7749999761581421,\n",
       "  0.7749999761581421,\n",
       "  0.7749999761581421,\n",
       "  0.7833333611488342,\n",
       "  0.7833333611488342,\n",
       "  0.7833333611488342,\n",
       "  0.800000011920929,\n",
       "  0.800000011920929,\n",
       "  0.800000011920929,\n",
       "  0.800000011920929,\n",
       "  0.800000011920929,\n",
       "  0.8083333373069763,\n",
       "  0.800000011920929,\n",
       "  0.8083333373069763,\n",
       "  0.8083333373069763,\n",
       "  0.8083333373069763,\n",
       "  0.8083333373069763,\n",
       "  0.8083333373069763,\n",
       "  0.800000011920929,\n",
       "  0.800000011920929,\n",
       "  0.800000011920929,\n",
       "  0.7916666865348816,\n",
       "  0.7916666865348816,\n",
       "  0.800000011920929,\n",
       "  0.800000011920929,\n",
       "  0.800000011920929,\n",
       "  0.800000011920929,\n",
       "  0.800000011920929,\n",
       "  0.800000011920929,\n",
       "  0.800000011920929,\n",
       "  0.800000011920929,\n",
       "  0.800000011920929,\n",
       "  0.800000011920929,\n",
       "  0.800000011920929,\n",
       "  0.800000011920929,\n",
       "  0.800000011920929,\n",
       "  0.800000011920929,\n",
       "  0.800000011920929,\n",
       "  0.800000011920929,\n",
       "  0.800000011920929,\n",
       "  0.8083333373069763,\n",
       "  0.8083333373069763,\n",
       "  0.8083333373069763,\n",
       "  0.8083333373069763,\n",
       "  0.8083333373069763,\n",
       "  0.8083333373069763]}"
      ]
     },
     "execution_count": 21,
     "metadata": {},
     "output_type": "execute_result"
    }
   ],
   "source": [
    "history.history"
   ]
  },
  {
   "cell_type": "markdown",
   "metadata": {},
   "source": [
    "Now visualize the loss over time using `history.history`: "
   ]
  },
  {
   "cell_type": "code",
   "execution_count": 22,
   "metadata": {},
   "outputs": [
    {
     "data": {
      "text/plain": [
       "[Text(0, 0.5, 'Accuracy'), Text(0.5, 0, 'Epoch')]"
      ]
     },
     "execution_count": 22,
     "metadata": {},
     "output_type": "execute_result"
    },
    {
     "data": {
      "image/png": "[encoded data removed]",
      "text/plain": [
       "<Figure size 864x576 with 1 Axes>"
      ]
     },
     "metadata": {
      "needs_background": "light"
     },
     "output_type": "display_data"
    },
    {
     "data": {
      "image/png": "[encoded data removed]",
      "text/plain": [
       "<Figure size 864x576 with 1 Axes>"
      ]
     },
     "metadata": {
      "needs_background": "light"
     },
     "output_type": "display_data"
    }
   ],
   "source": [
    "# The history.history[\"loss\"] entry is a dictionary with as many values as epochs that the\n",
    "# model was trained on. \n",
    "df_loss_acc = pd.DataFrame(history.history)\n",
    "df_loss= df_loss_acc[['loss','val_loss']]\n",
    "df_loss.rename(columns={'loss':'train','val_loss':'validation'},inplace=True)\n",
    "df_acc= df_loss_acc[['accuracy','val_accuracy']]\n",
    "df_acc.rename(columns={'accuracy':'train','val_accuracy':'validation'},inplace=True)\n",
    "df_loss.plot(title='Model loss',figsize=(12,8)).set(xlabel='Epoch',ylabel='Loss')\n",
    "df_acc.plot(title='Model Accuracy',figsize=(12,8)).set(xlabel='Epoch',ylabel='Accuracy')"
   ]
  },
  {
   "cell_type": "markdown",
   "metadata": {},
   "source": [
    "**Congratulations**! You've finished the assignment and built two models: One that recognizes  smiles, and another that recognizes SIGN language with almost 80% accuracy on the test set. In addition to that, you now also understand the applications of two Keras APIs: Sequential and Functional. Nicely done! \n",
    "\n",
    "By now, you know a bit about how the Functional API works and may have glimpsed the possibilities. In your next assignment, you'll really get a feel for its power when you get the opportunity to build a very deep ConvNet, using ResNets! "
   ]
  },
  {
   "cell_type": "markdown",
   "metadata": {},
   "source": [
    "<a name='6'></a>\n",
    "## 6 - Bibliography\n",
    "\n",
    "You're always encouraged to read the official documentation. To that end, you can find the docs for the Sequential and Functional APIs here: \n",
    "\n",
    "https://www.tensorflow.org/guide/keras/sequential_model\n",
    "\n",
    "https://www.tensorflow.org/guide/keras/functional"
   ]
  }
 ],
 "metadata": {
  "coursera": {
   "course_slug": "convolutional-neural-networks",
   "graded_item_id": "bwbJV",
   "launcher_item_id": "0TkXB"
  },
  "kernelspec": {
   "display_name": "Python 3",
   "language": "python",
   "name": "python3"
  },
  "language_info": {
   "codemirror_mode": {
    "name": "ipython",
    "version": 3
   },
   "file_extension": ".py",
   "mimetype": "text/x-python",
   "name": "python",
   "nbconvert_exporter": "python",
   "pygments_lexer": "ipython3",
   "version": "3.7.6"
  }
 },
 "nbformat": 4,
 "nbformat_minor": 2
}
